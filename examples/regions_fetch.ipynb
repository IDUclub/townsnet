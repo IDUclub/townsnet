{
 "cells": [
  {
   "cell_type": "code",
   "execution_count": 1,
   "metadata": {},
   "outputs": [],
   "source": [
    "regions_dict = {\n",
    "  1: 'Ленинградская область',\n",
    "  3138: 'Санкт-Петербург',\n",
    "  3268: 'Москва',\n",
    "  3427: 'Волгоградская область',\n",
    "  3902: 'Тульская область',\n",
    "  4013: 'Омская область',\n",
    "  4437: 'Краснодарский край',\n",
    "  4882: 'Тюменская область',\n",
    "  5188: 'Московская область',\n",
    "}"
   ]
  },
  {
   "cell_type": "code",
   "execution_count": 5,
   "metadata": {},
   "outputs": [
    {
     "name": "stdout",
     "output_type": "stream",
     "text": [
      "Санкт-Петербург EPSG:32636\n",
      "34\n",
      "Москва EPSG:32637\n",
      "232\n",
      "Волгоградская область EPSG:32638\n"
     ]
    },
    {
     "name": "stderr",
     "output_type": "stream",
     "text": [
      "/home/vasilstar/townsnet/.venv/lib/python3.10/site-packages/osmnx/_overpass.py:254: UserWarning: This area is 55 times your configured Overpass max query area size. It will automatically be divided up into multiple sub-queries accordingly. This may take a long time.\n",
      "  multi_poly_proj = utils_geo._consolidate_subdivide_geometry(poly_proj)\n"
     ]
    },
    {
     "name": "stdout",
     "output_type": "stream",
     "text": [
      "1296\n",
      "Тульская область EPSG:32637\n"
     ]
    },
    {
     "name": "stderr",
     "output_type": "stream",
     "text": [
      "/home/vasilstar/townsnet/.venv/lib/python3.10/site-packages/osmnx/_overpass.py:254: UserWarning: This area is 12 times your configured Overpass max query area size. It will automatically be divided up into multiple sub-queries accordingly. This may take a long time.\n",
      "  multi_poly_proj = utils_geo._consolidate_subdivide_geometry(poly_proj)\n"
     ]
    },
    {
     "name": "stdout",
     "output_type": "stream",
     "text": [
      "250\n",
      "Омская область EPSG:32643\n"
     ]
    },
    {
     "name": "stderr",
     "output_type": "stream",
     "text": [
      "/home/vasilstar/townsnet/.venv/lib/python3.10/site-packages/osmnx/_overpass.py:254: UserWarning: This area is 72 times your configured Overpass max query area size. It will automatically be divided up into multiple sub-queries accordingly. This may take a long time.\n",
      "  multi_poly_proj = utils_geo._consolidate_subdivide_geometry(poly_proj)\n"
     ]
    },
    {
     "name": "stdout",
     "output_type": "stream",
     "text": [
      "1474\n",
      "Краснодарский край EPSG:32637\n"
     ]
    },
    {
     "name": "stderr",
     "output_type": "stream",
     "text": [
      "/home/vasilstar/townsnet/.venv/lib/python3.10/site-packages/osmnx/_overpass.py:254: UserWarning: This area is 41 times your configured Overpass max query area size. It will automatically be divided up into multiple sub-queries accordingly. This may take a long time.\n",
      "  multi_poly_proj = utils_geo._consolidate_subdivide_geometry(poly_proj)\n"
     ]
    },
    {
     "name": "stdout",
     "output_type": "stream",
     "text": [
      "2766\n",
      "Тюменская область EPSG:32642\n"
     ]
    },
    {
     "name": "stderr",
     "output_type": "stream",
     "text": [
      "/home/vasilstar/townsnet/.venv/lib/python3.10/site-packages/osmnx/_overpass.py:254: UserWarning: This area is 83 times your configured Overpass max query area size. It will automatically be divided up into multiple sub-queries accordingly. This may take a long time.\n",
      "  multi_poly_proj = utils_geo._consolidate_subdivide_geometry(poly_proj)\n"
     ]
    },
    {
     "name": "stdout",
     "output_type": "stream",
     "text": [
      "1237\n",
      "Московская область EPSG:32637\n"
     ]
    },
    {
     "name": "stderr",
     "output_type": "stream",
     "text": [
      "/home/vasilstar/townsnet/.venv/lib/python3.10/site-packages/osmnx/_overpass.py:254: UserWarning: This area is 24 times your configured Overpass max query area size. It will automatically be divided up into multiple sub-queries accordingly. This may take a long time.\n",
      "  multi_poly_proj = utils_geo._consolidate_subdivide_geometry(poly_proj)\n"
     ]
    },
    {
     "name": "stdout",
     "output_type": "stream",
     "text": [
      "3077\n"
     ]
    }
   ],
   "source": [
    "import geopandas as gpd\n",
    "from townsnet import Fetcher\n",
    "\n",
    "for region_id, region_name in filter(lambda tpl : tpl[0] != 1, regions_dict.items()):\n",
    "  path = f\"data/regions/{region_id}/\"\n",
    "  districts = gpd.read_file(path + 'districts.geojson')\n",
    "  crs = districts.estimate_utm_crs()\n",
    "  print(region_name, crs)\n",
    "  towns = Fetcher(units=districts).fetch_towns()\n",
    "  towns.to_file(path + 'towns.geojson')\n",
    "  print(len(towns))"
   ]
  },
  {
   "cell_type": "code",
   "execution_count": 3,
   "metadata": {},
   "outputs": [
    {
     "name": "stderr",
     "output_type": "stream",
     "text": [
      "100%|██████████| 9/9 [01:32<00:00, 10.26s/it]\n"
     ]
    }
   ],
   "source": [
    "from tqdm import tqdm\n",
    "from townsnet import SERVICE_TYPES, ServiceType\n",
    "from multiprocessing import Pool\n",
    "\n",
    "for region_id, region_name in tqdm(regions_dict.items()):\n",
    "  path = f\"data/regions/{region_id}/\"\n",
    "  districts = gpd.read_file(path + 'districts.geojson')\n",
    "  crs = districts.estimate_utm_crs()\n",
    "  fetcher = Fetcher(units=districts)\n",
    "\n",
    "  def foobar(st):\n",
    "      try:\n",
    "        services = fetcher.fetch_services(st)\n",
    "        services.to_file(f'{path}services/{st.name}.geojson')\n",
    "      except:\n",
    "         ...\n",
    "  \n",
    "  with Pool(len(SERVICE_TYPES)) as pool:\n",
    "    pool.map(foobar, [ServiceType(**service_type) for service_type in SERVICE_TYPES])"
   ]
  },
  {
   "cell_type": "code",
   "execution_count": 5,
   "metadata": {},
   "outputs": [],
   "source": [
    "# import osmnx as ox\n",
    "\n",
    "# for region_id, region_name in tqdm(regions_dict.items()):\n",
    "#   path = f\"data/regions/{region_id}/\"\n",
    "#   districts = gpd.read_file(path + 'districts.geojson')\n",
    "#   geometry = districts.unary_union\n",
    "#   crs = districts.estimate_utm_crs()\n",
    "#   fetcher = Fetcher(units=districts)\n",
    "#   graph = fetcher.fetch_graph()\n",
    "#   ox.save_graphml(graph, path+'graph.graphml')"
   ]
  },
  {
   "cell_type": "code",
   "execution_count": 11,
   "metadata": {},
   "outputs": [
    {
     "name": "stderr",
     "output_type": "stream",
     "text": [
      "0it [00:00, ?it/s]\u001b[32m2024-06-12 17:14:30.668\u001b[0m | \u001b[1mINFO    \u001b[0m | \u001b[36mdongraphio.dongraphio\u001b[0m:\u001b[36mget_adjacency_matrix\u001b[0m:\u001b[36m84\u001b[0m - \u001b[1mCreating adjacency matrix based on provided graph...\u001b[0m\n",
      "\u001b[32m2024-06-12 17:14:33.942\u001b[0m | \u001b[34m\u001b[1mDEBUG   \u001b[0m | \u001b[36mdongraphio.base_models.matrix_logic\u001b[0m:\u001b[36mget_adjacency_matrix\u001b[0m:\u001b[36m52\u001b[0m - \u001b[34m\u001b[1mCalculating distances ...\u001b[0m\n",
      "\u001b[32m2024-06-12 17:14:34.092\u001b[0m | \u001b[1mINFO    \u001b[0m | \u001b[36mdongraphio.dongraphio\u001b[0m:\u001b[36mget_adjacency_matrix\u001b[0m:\u001b[36m93\u001b[0m - \u001b[1mAdjacency matrix done!\u001b[0m\n",
      "1it [00:12, 12.70s/it]\u001b[32m2024-06-12 17:14:45.238\u001b[0m | \u001b[1mINFO    \u001b[0m | \u001b[36mdongraphio.dongraphio\u001b[0m:\u001b[36mget_adjacency_matrix\u001b[0m:\u001b[36m84\u001b[0m - \u001b[1mCreating adjacency matrix based on provided graph...\u001b[0m\n",
      "\u001b[32m2024-06-12 17:14:47.917\u001b[0m | \u001b[34m\u001b[1mDEBUG   \u001b[0m | \u001b[36mdongraphio.base_models.matrix_logic\u001b[0m:\u001b[36mget_adjacency_matrix\u001b[0m:\u001b[36m52\u001b[0m - \u001b[34m\u001b[1mCalculating distances ...\u001b[0m\n",
      "\u001b[32m2024-06-12 17:14:49.770\u001b[0m | \u001b[1mINFO    \u001b[0m | \u001b[36mdongraphio.dongraphio\u001b[0m:\u001b[36mget_adjacency_matrix\u001b[0m:\u001b[36m93\u001b[0m - \u001b[1mAdjacency matrix done!\u001b[0m\n",
      "2it [00:28, 14.45s/it]\u001b[32m2024-06-12 17:15:23.574\u001b[0m | \u001b[1mINFO    \u001b[0m | \u001b[36mdongraphio.dongraphio\u001b[0m:\u001b[36mget_adjacency_matrix\u001b[0m:\u001b[36m84\u001b[0m - \u001b[1mCreating adjacency matrix based on provided graph...\u001b[0m\n",
      "\u001b[32m2024-06-12 17:15:31.682\u001b[0m | \u001b[34m\u001b[1mDEBUG   \u001b[0m | \u001b[36mdongraphio.base_models.matrix_logic\u001b[0m:\u001b[36mget_adjacency_matrix\u001b[0m:\u001b[36m52\u001b[0m - \u001b[34m\u001b[1mCalculating distances ...\u001b[0m\n",
      "\u001b[32m2024-06-12 17:16:32.824\u001b[0m | \u001b[1mINFO    \u001b[0m | \u001b[36mdongraphio.dongraphio\u001b[0m:\u001b[36mget_adjacency_matrix\u001b[0m:\u001b[36m93\u001b[0m - \u001b[1mAdjacency matrix done!\u001b[0m\n",
      "3it [02:11, 54.91s/it]\u001b[32m2024-06-12 17:16:45.896\u001b[0m | \u001b[1mINFO    \u001b[0m | \u001b[36mdongraphio.dongraphio\u001b[0m:\u001b[36mget_adjacency_matrix\u001b[0m:\u001b[36m84\u001b[0m - \u001b[1mCreating adjacency matrix based on provided graph...\u001b[0m\n",
      "\u001b[32m2024-06-12 17:16:49.710\u001b[0m | \u001b[34m\u001b[1mDEBUG   \u001b[0m | \u001b[36mdongraphio.base_models.matrix_logic\u001b[0m:\u001b[36mget_adjacency_matrix\u001b[0m:\u001b[36m52\u001b[0m - \u001b[34m\u001b[1mCalculating distances ...\u001b[0m\n",
      "\u001b[32m2024-06-12 17:16:51.854\u001b[0m | \u001b[1mINFO    \u001b[0m | \u001b[36mdongraphio.dongraphio\u001b[0m:\u001b[36mget_adjacency_matrix\u001b[0m:\u001b[36m93\u001b[0m - \u001b[1mAdjacency matrix done!\u001b[0m\n",
      "4it [02:30, 40.74s/it]\u001b[32m2024-06-12 17:17:11.772\u001b[0m | \u001b[1mINFO    \u001b[0m | \u001b[36mdongraphio.dongraphio\u001b[0m:\u001b[36mget_adjacency_matrix\u001b[0m:\u001b[36m84\u001b[0m - \u001b[1mCreating adjacency matrix based on provided graph...\u001b[0m\n",
      "\u001b[32m2024-06-12 17:17:16.800\u001b[0m | \u001b[34m\u001b[1mDEBUG   \u001b[0m | \u001b[36mdongraphio.base_models.matrix_logic\u001b[0m:\u001b[36mget_adjacency_matrix\u001b[0m:\u001b[36m52\u001b[0m - \u001b[34m\u001b[1mCalculating distances ...\u001b[0m\n",
      "\u001b[32m2024-06-12 17:18:36.704\u001b[0m | \u001b[1mINFO    \u001b[0m | \u001b[36mdongraphio.dongraphio\u001b[0m:\u001b[36mget_adjacency_matrix\u001b[0m:\u001b[36m93\u001b[0m - \u001b[1mAdjacency matrix done!\u001b[0m\n",
      "5it [04:15, 63.87s/it]\u001b[32m2024-06-12 17:19:28.951\u001b[0m | \u001b[1mINFO    \u001b[0m | \u001b[36mdongraphio.dongraphio\u001b[0m:\u001b[36mget_adjacency_matrix\u001b[0m:\u001b[36m84\u001b[0m - \u001b[1mCreating adjacency matrix based on provided graph...\u001b[0m\n",
      "\u001b[32m2024-06-12 17:19:41.330\u001b[0m | \u001b[34m\u001b[1mDEBUG   \u001b[0m | \u001b[36mdongraphio.base_models.matrix_logic\u001b[0m:\u001b[36mget_adjacency_matrix\u001b[0m:\u001b[36m52\u001b[0m - \u001b[34m\u001b[1mCalculating distances ...\u001b[0m\n",
      "\u001b[32m2024-06-12 17:23:21.403\u001b[0m | \u001b[1mINFO    \u001b[0m | \u001b[36mdongraphio.dongraphio\u001b[0m:\u001b[36mget_adjacency_matrix\u001b[0m:\u001b[36m93\u001b[0m - \u001b[1mAdjacency matrix done!\u001b[0m\n",
      "6it [09:00, 138.96s/it]\u001b[32m2024-06-12 17:23:38.581\u001b[0m | \u001b[1mINFO    \u001b[0m | \u001b[36mdongraphio.dongraphio\u001b[0m:\u001b[36mget_adjacency_matrix\u001b[0m:\u001b[36m84\u001b[0m - \u001b[1mCreating adjacency matrix based on provided graph...\u001b[0m\n",
      "\u001b[32m2024-06-12 17:23:43.527\u001b[0m | \u001b[34m\u001b[1mDEBUG   \u001b[0m | \u001b[36mdongraphio.base_models.matrix_logic\u001b[0m:\u001b[36mget_adjacency_matrix\u001b[0m:\u001b[36m52\u001b[0m - \u001b[34m\u001b[1mCalculating distances ...\u001b[0m\n",
      "\u001b[32m2024-06-12 17:24:38.994\u001b[0m | \u001b[1mINFO    \u001b[0m | \u001b[36mdongraphio.dongraphio\u001b[0m:\u001b[36mget_adjacency_matrix\u001b[0m:\u001b[36m93\u001b[0m - \u001b[1mAdjacency matrix done!\u001b[0m\n",
      "7it [10:17, 118.89s/it]\u001b[32m2024-06-12 17:25:38.222\u001b[0m | \u001b[1mINFO    \u001b[0m | \u001b[36mdongraphio.dongraphio\u001b[0m:\u001b[36mget_adjacency_matrix\u001b[0m:\u001b[36m84\u001b[0m - \u001b[1mCreating adjacency matrix based on provided graph...\u001b[0m\n",
      "\u001b[32m2024-06-12 17:25:54.690\u001b[0m | \u001b[34m\u001b[1mDEBUG   \u001b[0m | \u001b[36mdongraphio.base_models.matrix_logic\u001b[0m:\u001b[36mget_adjacency_matrix\u001b[0m:\u001b[36m52\u001b[0m - \u001b[34m\u001b[1mCalculating distances ...\u001b[0m\n",
      "\u001b[32m2024-06-12 17:31:38.221\u001b[0m | \u001b[1mINFO    \u001b[0m | \u001b[36mdongraphio.dongraphio\u001b[0m:\u001b[36mget_adjacency_matrix\u001b[0m:\u001b[36m93\u001b[0m - \u001b[1mAdjacency matrix done!\u001b[0m\n",
      "8it [17:16, 129.61s/it]\n"
     ]
    }
   ],
   "source": [
    "import osmnx as ox\n",
    "from shapely import to_wkt\n",
    "from dongraphio import DonGraphio, GraphType\n",
    "\n",
    "for region_id, region_name in tqdm(filter(lambda tpl : tpl[0] != 1, regions_dict.items())):\n",
    "  path = f\"data/regions/{region_id}/\"\n",
    "  towns = gpd.read_file(path + 'towns.geojson')\n",
    "  graph = ox.load_graphml(path + 'graph.graphml')\n",
    "\n",
    "  crs = towns.estimate_utm_crs()\n",
    "  towns = towns.to_crs(crs)\n",
    "  graph = ox.project_graph(graph, crs)\n",
    "\n",
    "  speed = 60 * 1000 / 60\n",
    "  nodes, edges = ox.graph_to_gdfs(graph)\n",
    "  edges['type'] = 'car'\n",
    "  edges['time_min'] = edges['length'] / speed\n",
    "  graph = ox.graph_from_gdfs(nodes,edges)\n",
    "\n",
    "  for _,_,data in graph.edges(data=True):\n",
    "    # data['type'] = 'car'\n",
    "    data['geometry'] = to_wkt(data['geometry'])\n",
    "    # data['time_min'] = data['length'] / speed\n",
    "\n",
    "  dg = DonGraphio(crs.to_epsg(), graph)\n",
    "  adj_mx = dg.get_adjacency_matrix(towns, towns, weight='time_min', graph_type=[GraphType.DRIVE])\n",
    "  adj_mx.to_pickle(path + 'adj_mx.pickle')\n",
    "  "
   ]
  }
 ],
 "metadata": {
  "kernelspec": {
   "display_name": ".venv",
   "language": "python",
   "name": "python3"
  },
  "language_info": {
   "codemirror_mode": {
    "name": "ipython",
    "version": 3
   },
   "file_extension": ".py",
   "mimetype": "text/x-python",
   "name": "python",
   "nbconvert_exporter": "python",
   "pygments_lexer": "ipython3",
   "version": "3.10.12"
  }
 },
 "nbformat": 4,
 "nbformat_minor": 2
}
