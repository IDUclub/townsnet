{
 "cells": [
  {
   "cell_type": "code",
   "execution_count": 1,
   "metadata": {},
   "outputs": [],
   "source": [
    "regions_dict = {\n",
    "  1: 'Ленинградская область',\n",
    "  3138: 'Санкт-Петербург',\n",
    "  3268: 'Москва',\n",
    "  3427: 'Волгоградская область',\n",
    "  3902: 'Тульская область',\n",
    "  4013: 'Омская область',\n",
    "  4437: 'Краснодарский край',\n",
    "  4882: 'Тюменская область',\n",
    "  5188: 'Московская область',\n",
    "}"
   ]
  },
  {
   "cell_type": "code",
   "execution_count": 3,
   "metadata": {},
   "outputs": [
    {
     "name": "stdout",
     "output_type": "stream",
     "text": [
      "Ленинградская область EPSG:32636\n",
      "2931\n",
      "Санкт-Петербург EPSG:32636\n",
      "33\n",
      "Москва EPSG:32637\n",
      "207\n",
      "Волгоградская область EPSG:32638\n",
      "1212\n",
      "Тульская область EPSG:32637\n",
      "217\n",
      "Омская область EPSG:32643\n",
      "1455\n",
      "Краснодарский край EPSG:32637\n",
      "1623\n",
      "Тюменская область EPSG:32642\n",
      "1211\n",
      "Московская область EPSG:32637\n",
      "2889\n"
     ]
    }
   ],
   "source": [
    "import geopandas as gpd\n",
    "from townsnet import Fetcher\n",
    "\n",
    "for region_id, region_name in regions_dict.items():\n",
    "  path = f\"data/regions/{region_id}/\"\n",
    "  districts = gpd.read_file(path + 'districts.geojson')\n",
    "  crs = districts.estimate_utm_crs()\n",
    "  print(region_name, crs)\n",
    "  try:\n",
    "    towns = gpd.read_file(path + 'towns.geojson')\n",
    "  except:\n",
    "    towns = Fetcher(units=districts).fetch_towns()\n",
    "    towns.to_file(path + 'towns.geojson')\n",
    "  print(len(towns))\n",
    "\n",
    "# districts['population'] = districts['2023'].apply(int)\n",
    "# fetcher = Fetcher(units=districts)"
   ]
  },
  {
   "cell_type": "code",
   "execution_count": 4,
   "metadata": {},
   "outputs": [
    {
     "name": "stderr",
     "output_type": "stream",
     "text": [
      "  0%|          | 0/9 [00:00<?, ?it/s]/home/vasilstar/townsnet/.venv/lib/python3.10/site-packages/osmnx/_overpass.py:254: UserWarning: This area is 50 times your configured Overpass max query area size. It will automatically be divided up into multiple sub-queries accordingly. This may take a long time.\n",
      "  multi_poly_proj = utils_geo._consolidate_subdivide_geometry(poly_proj)\n",
      "/home/vasilstar/townsnet/.venv/lib/python3.10/site-packages/osmnx/_overpass.py:254: UserWarning: This area is 50 times your configured Overpass max query area size. It will automatically be divided up into multiple sub-queries accordingly. This may take a long time.\n",
      "  multi_poly_proj = utils_geo._consolidate_subdivide_geometry(poly_proj)\n",
      " 33%|███▎      | 3/9 [00:06<00:12,  2.14s/it]/home/vasilstar/townsnet/.venv/lib/python3.10/site-packages/osmnx/_overpass.py:254: UserWarning: This area is 55 times your configured Overpass max query area size. It will automatically be divided up into multiple sub-queries accordingly. This may take a long time.\n",
      "  multi_poly_proj = utils_geo._consolidate_subdivide_geometry(poly_proj)\n",
      "/home/vasilstar/townsnet/.venv/lib/python3.10/site-packages/osmnx/_overpass.py:254: UserWarning: This area is 55 times your configured Overpass max query area size. It will automatically be divided up into multiple sub-queries accordingly. This may take a long time.\n",
      "  multi_poly_proj = utils_geo._consolidate_subdivide_geometry(poly_proj)\n",
      " 44%|████▍     | 4/9 [00:07<00:08,  1.70s/it]/home/vasilstar/townsnet/.venv/lib/python3.10/site-packages/osmnx/_overpass.py:254: UserWarning: This area is 12 times your configured Overpass max query area size. It will automatically be divided up into multiple sub-queries accordingly. This may take a long time.\n",
      "  multi_poly_proj = utils_geo._consolidate_subdivide_geometry(poly_proj)\n",
      "/home/vasilstar/townsnet/.venv/lib/python3.10/site-packages/osmnx/_overpass.py:254: UserWarning: This area is 12 times your configured Overpass max query area size. It will automatically be divided up into multiple sub-queries accordingly. This may take a long time.\n",
      "  multi_poly_proj = utils_geo._consolidate_subdivide_geometry(poly_proj)\n",
      "/home/vasilstar/townsnet/.venv/lib/python3.10/site-packages/osmnx/_overpass.py:254: UserWarning: This area is 12 times your configured Overpass max query area size. It will automatically be divided up into multiple sub-queries accordingly. This may take a long time.\n",
      "  multi_poly_proj = utils_geo._consolidate_subdivide_geometry(poly_proj)\n",
      " 56%|█████▌    | 5/9 [00:08<00:05,  1.40s/it]/home/vasilstar/townsnet/.venv/lib/python3.10/site-packages/osmnx/_overpass.py:254: UserWarning: This area is 72 times your configured Overpass max query area size. It will automatically be divided up into multiple sub-queries accordingly. This may take a long time.\n",
      "  multi_poly_proj = utils_geo._consolidate_subdivide_geometry(poly_proj)\n",
      "/home/vasilstar/townsnet/.venv/lib/python3.10/site-packages/osmnx/_overpass.py:254: UserWarning: This area is 72 times your configured Overpass max query area size. It will automatically be divided up into multiple sub-queries accordingly. This may take a long time.\n",
      "  multi_poly_proj = utils_geo._consolidate_subdivide_geometry(poly_proj)\n",
      " 67%|██████▋   | 6/9 [00:09<00:03,  1.18s/it]/home/vasilstar/townsnet/.venv/lib/python3.10/site-packages/osmnx/_overpass.py:254: UserWarning: This area is 41 times your configured Overpass max query area size. It will automatically be divided up into multiple sub-queries accordingly. This may take a long time.\n",
      "  multi_poly_proj = utils_geo._consolidate_subdivide_geometry(poly_proj)\n",
      "/home/vasilstar/townsnet/.venv/lib/python3.10/site-packages/osmnx/_overpass.py:254: UserWarning: This area is 41 times your configured Overpass max query area size. It will automatically be divided up into multiple sub-queries accordingly. This may take a long time.\n",
      "  multi_poly_proj = utils_geo._consolidate_subdivide_geometry(poly_proj)\n",
      " 78%|███████▊  | 7/9 [00:10<00:02,  1.40s/it]/home/vasilstar/townsnet/.venv/lib/python3.10/site-packages/osmnx/_overpass.py:254: UserWarning: This area is 83 times your configured Overpass max query area size. It will automatically be divided up into multiple sub-queries accordingly. This may take a long time.\n",
      "  multi_poly_proj = utils_geo._consolidate_subdivide_geometry(poly_proj)\n",
      "/home/vasilstar/townsnet/.venv/lib/python3.10/site-packages/osmnx/_overpass.py:254: UserWarning: This area is 83 times your configured Overpass max query area size. It will automatically be divided up into multiple sub-queries accordingly. This may take a long time.\n",
      "  multi_poly_proj = utils_geo._consolidate_subdivide_geometry(poly_proj)\n",
      " 89%|████████▉ | 8/9 [00:12<00:01,  1.32s/it]/home/vasilstar/townsnet/.venv/lib/python3.10/site-packages/osmnx/_overpass.py:254: UserWarning: This area is 24 times your configured Overpass max query area size. It will automatically be divided up into multiple sub-queries accordingly. This may take a long time.\n",
      "  multi_poly_proj = utils_geo._consolidate_subdivide_geometry(poly_proj)\n",
      "/home/vasilstar/townsnet/.venv/lib/python3.10/site-packages/osmnx/_overpass.py:254: UserWarning: This area is 24 times your configured Overpass max query area size. It will automatically be divided up into multiple sub-queries accordingly. This may take a long time.\n",
      "  multi_poly_proj = utils_geo._consolidate_subdivide_geometry(poly_proj)\n",
      "100%|██████████| 9/9 [00:14<00:00,  1.63s/it]\n"
     ]
    }
   ],
   "source": [
    "from tqdm import tqdm\n",
    "from townsnet import SERVICE_TYPES, ServiceType\n",
    "from multiprocessing import Pool\n",
    "\n",
    "for region_id, region_name in tqdm(regions_dict.items()):\n",
    "  path = f\"data/regions/{region_id}/\"\n",
    "  districts = gpd.read_file(path + 'districts.geojson')\n",
    "  crs = districts.estimate_utm_crs()\n",
    "  fetcher = Fetcher(units=districts)\n",
    "\n",
    "  def foobar(st):\n",
    "    try:\n",
    "      services = gpd.read_file(f'{path}services/{st.name}.geojson')\n",
    "    except:\n",
    "      try:\n",
    "        services = fetcher.fetch_services(st)\n",
    "        services.to_file(f'{path}services/{st.name}.geojson')\n",
    "      except:\n",
    "        ...\n",
    "    return None\n",
    "  \n",
    "  with Pool(len(SERVICE_TYPES)) as pool:\n",
    "    pool.map(foobar, [ServiceType(**service_type) for service_type in SERVICE_TYPES])"
   ]
  },
  {
   "cell_type": "code",
   "execution_count": 5,
   "metadata": {},
   "outputs": [],
   "source": [
    "# import osmnx as ox\n",
    "\n",
    "# for region_id, region_name in tqdm(regions_dict.items()):\n",
    "#   path = f\"data/regions/{region_id}/\"\n",
    "#   districts = gpd.read_file(path + 'districts.geojson')\n",
    "#   geometry = districts.unary_union\n",
    "#   crs = districts.estimate_utm_crs()\n",
    "#   fetcher = Fetcher(units=districts)\n",
    "#   graph = fetcher.fetch_graph()\n",
    "#   ox.save_graphml(graph, path+'graph.graphml')"
   ]
  },
  {
   "cell_type": "code",
   "execution_count": 22,
   "metadata": {},
   "outputs": [
    {
     "name": "stderr",
     "output_type": "stream",
     "text": [
      "  0%|          | 0/9 [00:00<?, ?it/s]\u001b[32m2024-06-08 07:12:27.868\u001b[0m | \u001b[1mINFO    \u001b[0m | \u001b[36mdongraphio.dongraphio\u001b[0m:\u001b[36mget_adjacency_matrix\u001b[0m:\u001b[36m84\u001b[0m - \u001b[1mCreating adjacency matrix based on provided graph...\u001b[0m\n",
      "\u001b[32m2024-06-08 07:12:38.667\u001b[0m | \u001b[34m\u001b[1mDEBUG   \u001b[0m | \u001b[36mdongraphio.base_models.matrix_logic\u001b[0m:\u001b[36mget_adjacency_matrix\u001b[0m:\u001b[36m52\u001b[0m - \u001b[34m\u001b[1mCalculating distances ...\u001b[0m\n",
      "\u001b[32m2024-06-08 07:17:28.523\u001b[0m | \u001b[1mINFO    \u001b[0m | \u001b[36mdongraphio.dongraphio\u001b[0m:\u001b[36mget_adjacency_matrix\u001b[0m:\u001b[36m93\u001b[0m - \u001b[1mAdjacency matrix done!\u001b[0m\n",
      " 11%|█         | 1/9 [05:47<46:18, 347.36s/it]\u001b[32m2024-06-08 07:17:38.789\u001b[0m | \u001b[1mINFO    \u001b[0m | \u001b[36mdongraphio.dongraphio\u001b[0m:\u001b[36mget_adjacency_matrix\u001b[0m:\u001b[36m84\u001b[0m - \u001b[1mCreating adjacency matrix based on provided graph...\u001b[0m\n",
      "\u001b[32m2024-06-08 07:17:41.697\u001b[0m | \u001b[34m\u001b[1mDEBUG   \u001b[0m | \u001b[36mdongraphio.base_models.matrix_logic\u001b[0m:\u001b[36mget_adjacency_matrix\u001b[0m:\u001b[36m52\u001b[0m - \u001b[34m\u001b[1mCalculating distances ...\u001b[0m\n",
      "\u001b[32m2024-06-08 07:17:41.840\u001b[0m | \u001b[1mINFO    \u001b[0m | \u001b[36mdongraphio.dongraphio\u001b[0m:\u001b[36mget_adjacency_matrix\u001b[0m:\u001b[36m93\u001b[0m - \u001b[1mAdjacency matrix done!\u001b[0m\n",
      " 22%|██▏       | 2/9 [06:00<17:35, 150.85s/it]\u001b[32m2024-06-08 07:17:52.057\u001b[0m | \u001b[1mINFO    \u001b[0m | \u001b[36mdongraphio.dongraphio\u001b[0m:\u001b[36mget_adjacency_matrix\u001b[0m:\u001b[36m84\u001b[0m - \u001b[1mCreating adjacency matrix based on provided graph...\u001b[0m\n",
      "\u001b[32m2024-06-08 07:17:54.575\u001b[0m | \u001b[34m\u001b[1mDEBUG   \u001b[0m | \u001b[36mdongraphio.base_models.matrix_logic\u001b[0m:\u001b[36mget_adjacency_matrix\u001b[0m:\u001b[36m52\u001b[0m - \u001b[34m\u001b[1mCalculating distances ...\u001b[0m\n",
      "\u001b[32m2024-06-08 07:17:56.108\u001b[0m | \u001b[1mINFO    \u001b[0m | \u001b[36mdongraphio.dongraphio\u001b[0m:\u001b[36mget_adjacency_matrix\u001b[0m:\u001b[36m93\u001b[0m - \u001b[1mAdjacency matrix done!\u001b[0m\n",
      " 33%|███▎      | 3/9 [06:14<08:50, 88.48s/it] \u001b[32m2024-06-08 07:18:28.379\u001b[0m | \u001b[1mINFO    \u001b[0m | \u001b[36mdongraphio.dongraphio\u001b[0m:\u001b[36mget_adjacency_matrix\u001b[0m:\u001b[36m84\u001b[0m - \u001b[1mCreating adjacency matrix based on provided graph...\u001b[0m\n",
      "\u001b[32m2024-06-08 07:18:36.077\u001b[0m | \u001b[34m\u001b[1mDEBUG   \u001b[0m | \u001b[36mdongraphio.base_models.matrix_logic\u001b[0m:\u001b[36mget_adjacency_matrix\u001b[0m:\u001b[36m52\u001b[0m - \u001b[34m\u001b[1mCalculating distances ...\u001b[0m\n",
      "\u001b[32m2024-06-08 07:19:28.298\u001b[0m | \u001b[1mINFO    \u001b[0m | \u001b[36mdongraphio.dongraphio\u001b[0m:\u001b[36mget_adjacency_matrix\u001b[0m:\u001b[36m93\u001b[0m - \u001b[1mAdjacency matrix done!\u001b[0m\n",
      " 44%|████▍     | 4/9 [07:47<07:29, 89.95s/it]\u001b[32m2024-06-08 07:19:41.045\u001b[0m | \u001b[1mINFO    \u001b[0m | \u001b[36mdongraphio.dongraphio\u001b[0m:\u001b[36mget_adjacency_matrix\u001b[0m:\u001b[36m84\u001b[0m - \u001b[1mCreating adjacency matrix based on provided graph...\u001b[0m\n",
      "\u001b[32m2024-06-08 07:19:44.655\u001b[0m | \u001b[34m\u001b[1mDEBUG   \u001b[0m | \u001b[36mdongraphio.base_models.matrix_logic\u001b[0m:\u001b[36mget_adjacency_matrix\u001b[0m:\u001b[36m52\u001b[0m - \u001b[34m\u001b[1mCalculating distances ...\u001b[0m\n",
      "\u001b[32m2024-06-08 07:19:46.375\u001b[0m | \u001b[1mINFO    \u001b[0m | \u001b[36mdongraphio.dongraphio\u001b[0m:\u001b[36mget_adjacency_matrix\u001b[0m:\u001b[36m93\u001b[0m - \u001b[1mAdjacency matrix done!\u001b[0m\n",
      " 56%|█████▌    | 5/9 [08:05<04:16, 64.03s/it]\u001b[32m2024-06-08 07:20:05.791\u001b[0m | \u001b[1mINFO    \u001b[0m | \u001b[36mdongraphio.dongraphio\u001b[0m:\u001b[36mget_adjacency_matrix\u001b[0m:\u001b[36m84\u001b[0m - \u001b[1mCreating adjacency matrix based on provided graph...\u001b[0m\n",
      "\u001b[32m2024-06-08 07:20:10.561\u001b[0m | \u001b[34m\u001b[1mDEBUG   \u001b[0m | \u001b[36mdongraphio.base_models.matrix_logic\u001b[0m:\u001b[36mget_adjacency_matrix\u001b[0m:\u001b[36m52\u001b[0m - \u001b[34m\u001b[1mCalculating distances ...\u001b[0m\n",
      "\u001b[32m2024-06-08 07:21:24.029\u001b[0m | \u001b[1mINFO    \u001b[0m | \u001b[36mdongraphio.dongraphio\u001b[0m:\u001b[36mget_adjacency_matrix\u001b[0m:\u001b[36m93\u001b[0m - \u001b[1mAdjacency matrix done!\u001b[0m\n",
      " 67%|██████▋   | 6/9 [09:42<03:46, 75.46s/it]\u001b[32m2024-06-08 07:22:14.103\u001b[0m | \u001b[1mINFO    \u001b[0m | \u001b[36mdongraphio.dongraphio\u001b[0m:\u001b[36mget_adjacency_matrix\u001b[0m:\u001b[36m84\u001b[0m - \u001b[1mCreating adjacency matrix based on provided graph...\u001b[0m\n",
      "\u001b[32m2024-06-08 07:22:25.671\u001b[0m | \u001b[34m\u001b[1mDEBUG   \u001b[0m | \u001b[36mdongraphio.base_models.matrix_logic\u001b[0m:\u001b[36mget_adjacency_matrix\u001b[0m:\u001b[36m52\u001b[0m - \u001b[34m\u001b[1mCalculating distances ...\u001b[0m\n",
      "\u001b[32m2024-06-08 07:23:59.009\u001b[0m | \u001b[1mINFO    \u001b[0m | \u001b[36mdongraphio.dongraphio\u001b[0m:\u001b[36mget_adjacency_matrix\u001b[0m:\u001b[36m93\u001b[0m - \u001b[1mAdjacency matrix done!\u001b[0m\n",
      " 78%|███████▊  | 7/9 [12:17<03:22, 101.46s/it]\u001b[32m2024-06-08 07:24:16.584\u001b[0m | \u001b[1mINFO    \u001b[0m | \u001b[36mdongraphio.dongraphio\u001b[0m:\u001b[36mget_adjacency_matrix\u001b[0m:\u001b[36m84\u001b[0m - \u001b[1mCreating adjacency matrix based on provided graph...\u001b[0m\n",
      "\u001b[32m2024-06-08 07:24:21.420\u001b[0m | \u001b[34m\u001b[1mDEBUG   \u001b[0m | \u001b[36mdongraphio.base_models.matrix_logic\u001b[0m:\u001b[36mget_adjacency_matrix\u001b[0m:\u001b[36m52\u001b[0m - \u001b[34m\u001b[1mCalculating distances ...\u001b[0m\n",
      "\u001b[32m2024-06-08 07:25:13.323\u001b[0m | \u001b[1mINFO    \u001b[0m | \u001b[36mdongraphio.dongraphio\u001b[0m:\u001b[36mget_adjacency_matrix\u001b[0m:\u001b[36m93\u001b[0m - \u001b[1mAdjacency matrix done!\u001b[0m\n",
      " 89%|████████▉ | 8/9 [13:32<01:32, 92.82s/it] \u001b[32m2024-06-08 07:26:10.792\u001b[0m | \u001b[1mINFO    \u001b[0m | \u001b[36mdongraphio.dongraphio\u001b[0m:\u001b[36mget_adjacency_matrix\u001b[0m:\u001b[36m84\u001b[0m - \u001b[1mCreating adjacency matrix based on provided graph...\u001b[0m\n",
      "\u001b[32m2024-06-08 07:26:25.825\u001b[0m | \u001b[34m\u001b[1mDEBUG   \u001b[0m | \u001b[36mdongraphio.base_models.matrix_logic\u001b[0m:\u001b[36mget_adjacency_matrix\u001b[0m:\u001b[36m52\u001b[0m - \u001b[34m\u001b[1mCalculating distances ...\u001b[0m\n",
      "\u001b[32m2024-06-08 07:31:21.847\u001b[0m | \u001b[1mINFO    \u001b[0m | \u001b[36mdongraphio.dongraphio\u001b[0m:\u001b[36mget_adjacency_matrix\u001b[0m:\u001b[36m93\u001b[0m - \u001b[1mAdjacency matrix done!\u001b[0m\n",
      "100%|██████████| 9/9 [19:40<00:00, 131.19s/it]\n"
     ]
    }
   ],
   "source": [
    "import osmnx as ox\n",
    "from shapely import to_wkt\n",
    "from dongraphio import DonGraphio, GraphType\n",
    "\n",
    "for region_id, region_name in tqdm(regions_dict.items()):\n",
    "  path = f\"data/regions/{region_id}/\"\n",
    "  towns = gpd.read_file(path + 'towns.geojson')\n",
    "  graph = ox.load_graphml(path + 'graph.graphml')\n",
    "\n",
    "  crs = towns.estimate_utm_crs()\n",
    "  towns = towns.to_crs(crs)\n",
    "  graph = ox.project_graph(graph, crs)\n",
    "\n",
    "  speed = 60 * 1000 / 60\n",
    "  nodes, edges = ox.graph_to_gdfs(graph)\n",
    "  edges['type'] = 'car'\n",
    "  edges['time_min'] = edges['length'] / speed\n",
    "  graph = ox.graph_from_gdfs(nodes,edges)\n",
    "\n",
    "  for _,_,data in graph.edges(data=True):\n",
    "    # data['type'] = 'car'\n",
    "    data['geometry'] = to_wkt(data['geometry'])\n",
    "    # data['time_min'] = data['length'] / speed\n",
    "\n",
    "  dg = DonGraphio(crs.to_epsg(), graph)\n",
    "  adj_mx = dg.get_adjacency_matrix(towns, towns, weight='time_min', graph_type=[GraphType.DRIVE])\n",
    "  adj_mx.to_pickle(path + 'adj_mx.pickle')\n",
    "  "
   ]
  }
 ],
 "metadata": {
  "kernelspec": {
   "display_name": ".venv",
   "language": "python",
   "name": "python3"
  },
  "language_info": {
   "codemirror_mode": {
    "name": "ipython",
    "version": 3
   },
   "file_extension": ".py",
   "mimetype": "text/x-python",
   "name": "python",
   "nbconvert_exporter": "python",
   "pygments_lexer": "ipython3",
   "version": "3.10.12"
  }
 },
 "nbformat": 4,
 "nbformat_minor": 2
}
