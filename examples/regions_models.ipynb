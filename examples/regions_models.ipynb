{
 "cells": [
  {
   "cell_type": "code",
   "execution_count": 2,
   "metadata": {},
   "outputs": [],
   "source": [
    "regions_dict = {\n",
    "  1: 'Ленинградская область',\n",
    "  3138: 'Санкт-Петербург',\n",
    "  3268: 'Москва',\n",
    "  3427: 'Волгоградская область',\n",
    "  3902: 'Тульская область',\n",
    "  4013: 'Омская область',\n",
    "  4437: 'Краснодарский край',\n",
    "  4882: 'Тюменская область',\n",
    "  5188: 'Московская область',\n",
    "}"
   ]
  },
  {
   "cell_type": "code",
   "execution_count": 3,
   "metadata": {},
   "outputs": [
    {
     "name": "stderr",
     "output_type": "stream",
     "text": [
      "100%|██████████| 45/45 [17:53<00:00, 23.87s/it]   \n",
      "100%|██████████| 45/45 [01:24<00:00,  1.89s/it]\n",
      "100%|██████████| 45/45 [07:04<00:00,  9.44s/it]\n",
      "100%|██████████| 45/45 [04:30<00:00,  6.02s/it]\n",
      "100%|██████████| 45/45 [00:51<00:00,  1.13s/it]\n",
      "100%|██████████| 45/45 [04:23<00:00,  5.87s/it]\n",
      "100%|██████████| 45/45 [20:13<00:00, 26.97s/it] \n",
      "100%|██████████| 45/45 [04:36<00:00,  6.15s/it]\n"
     ]
    },
    {
     "ename": "DriverError",
     "evalue": "data/regions/5188/settlements.geojson: No such file or directory",
     "output_type": "error",
     "traceback": [
      "\u001b[0;31m---------------------------------------------------------------------------\u001b[0m",
      "\u001b[0;31mCPLE_OpenFailedError\u001b[0m                      Traceback (most recent call last)",
      "File \u001b[0;32mfiona/ogrext.pyx:136\u001b[0m, in \u001b[0;36mfiona.ogrext.gdal_open_vector\u001b[0;34m()\u001b[0m\n",
      "File \u001b[0;32mfiona/_err.pyx:291\u001b[0m, in \u001b[0;36mfiona._err.exc_wrap_pointer\u001b[0;34m()\u001b[0m\n",
      "\u001b[0;31mCPLE_OpenFailedError\u001b[0m: data/regions/5188/settlements.geojson: No such file or directory",
      "\nDuring handling of the above exception, another exception occurred:\n",
      "\u001b[0;31mDriverError\u001b[0m                               Traceback (most recent call last)",
      "Cell \u001b[0;32mIn[3], line 10\u001b[0m\n\u001b[1;32m      7\u001b[0m region_path \u001b[38;5;241m=\u001b[39m \u001b[38;5;124mf\u001b[39m\u001b[38;5;124m\"\u001b[39m\u001b[38;5;124mdata/regions/\u001b[39m\u001b[38;5;132;01m{\u001b[39;00mregion_id\u001b[38;5;132;01m}\u001b[39;00m\u001b[38;5;124m/\u001b[39m\u001b[38;5;124m\"\u001b[39m\n\u001b[1;32m      9\u001b[0m districts \u001b[38;5;241m=\u001b[39m gpd\u001b[38;5;241m.\u001b[39mread_file(region_path \u001b[38;5;241m+\u001b[39m \u001b[38;5;124m'\u001b[39m\u001b[38;5;124mdistricts.geojson\u001b[39m\u001b[38;5;124m'\u001b[39m)\n\u001b[0;32m---> 10\u001b[0m settlements \u001b[38;5;241m=\u001b[39m \u001b[43mgpd\u001b[49m\u001b[38;5;241;43m.\u001b[39;49m\u001b[43mread_file\u001b[49m\u001b[43m(\u001b[49m\u001b[43mregion_path\u001b[49m\u001b[43m \u001b[49m\u001b[38;5;241;43m+\u001b[39;49m\u001b[43m \u001b[49m\u001b[38;5;124;43m'\u001b[39;49m\u001b[38;5;124;43msettlements.geojson\u001b[39;49m\u001b[38;5;124;43m'\u001b[39;49m\u001b[43m)\u001b[49m\n\u001b[1;32m     11\u001b[0m towns \u001b[38;5;241m=\u001b[39m gpd\u001b[38;5;241m.\u001b[39mread_file(region_path \u001b[38;5;241m+\u001b[39m \u001b[38;5;124m'\u001b[39m\u001b[38;5;124mtowns.geojson\u001b[39m\u001b[38;5;124m'\u001b[39m)\n\u001b[1;32m     12\u001b[0m adj_mx \u001b[38;5;241m=\u001b[39m pd\u001b[38;5;241m.\u001b[39mread_pickle(region_path \u001b[38;5;241m+\u001b[39m \u001b[38;5;124m'\u001b[39m\u001b[38;5;124madj_mx.pickle\u001b[39m\u001b[38;5;124m'\u001b[39m)\n",
      "File \u001b[0;32m~/townsnet/.venv/lib/python3.10/site-packages/geopandas/io/file.py:289\u001b[0m, in \u001b[0;36m_read_file\u001b[0;34m(filename, bbox, mask, rows, engine, **kwargs)\u001b[0m\n\u001b[1;32m    286\u001b[0m     \u001b[38;5;28;01melse\u001b[39;00m:\n\u001b[1;32m    287\u001b[0m         path_or_bytes \u001b[38;5;241m=\u001b[39m filename\n\u001b[0;32m--> 289\u001b[0m     \u001b[38;5;28;01mreturn\u001b[39;00m \u001b[43m_read_file_fiona\u001b[49m\u001b[43m(\u001b[49m\n\u001b[1;32m    290\u001b[0m \u001b[43m        \u001b[49m\u001b[43mpath_or_bytes\u001b[49m\u001b[43m,\u001b[49m\u001b[43m \u001b[49m\u001b[43mfrom_bytes\u001b[49m\u001b[43m,\u001b[49m\u001b[43m \u001b[49m\u001b[43mbbox\u001b[49m\u001b[38;5;241;43m=\u001b[39;49m\u001b[43mbbox\u001b[49m\u001b[43m,\u001b[49m\u001b[43m \u001b[49m\u001b[43mmask\u001b[49m\u001b[38;5;241;43m=\u001b[39;49m\u001b[43mmask\u001b[49m\u001b[43m,\u001b[49m\u001b[43m \u001b[49m\u001b[43mrows\u001b[49m\u001b[38;5;241;43m=\u001b[39;49m\u001b[43mrows\u001b[49m\u001b[43m,\u001b[49m\u001b[43m \u001b[49m\u001b[38;5;241;43m*\u001b[39;49m\u001b[38;5;241;43m*\u001b[39;49m\u001b[43mkwargs\u001b[49m\n\u001b[1;32m    291\u001b[0m \u001b[43m    \u001b[49m\u001b[43m)\u001b[49m\n\u001b[1;32m    293\u001b[0m \u001b[38;5;28;01melse\u001b[39;00m:\n\u001b[1;32m    294\u001b[0m     \u001b[38;5;28;01mraise\u001b[39;00m \u001b[38;5;167;01mValueError\u001b[39;00m(\u001b[38;5;124mf\u001b[39m\u001b[38;5;124m\"\u001b[39m\u001b[38;5;124munknown engine \u001b[39m\u001b[38;5;124m'\u001b[39m\u001b[38;5;132;01m{\u001b[39;00mengine\u001b[38;5;132;01m}\u001b[39;00m\u001b[38;5;124m'\u001b[39m\u001b[38;5;124m\"\u001b[39m)\n",
      "File \u001b[0;32m~/townsnet/.venv/lib/python3.10/site-packages/geopandas/io/file.py:315\u001b[0m, in \u001b[0;36m_read_file_fiona\u001b[0;34m(path_or_bytes, from_bytes, bbox, mask, rows, where, **kwargs)\u001b[0m\n\u001b[1;32m    312\u001b[0m     reader \u001b[38;5;241m=\u001b[39m fiona\u001b[38;5;241m.\u001b[39mopen\n\u001b[1;32m    314\u001b[0m \u001b[38;5;28;01mwith\u001b[39;00m fiona_env():\n\u001b[0;32m--> 315\u001b[0m     \u001b[38;5;28;01mwith\u001b[39;00m \u001b[43mreader\u001b[49m\u001b[43m(\u001b[49m\u001b[43mpath_or_bytes\u001b[49m\u001b[43m,\u001b[49m\u001b[43m \u001b[49m\u001b[38;5;241;43m*\u001b[39;49m\u001b[38;5;241;43m*\u001b[39;49m\u001b[43mkwargs\u001b[49m\u001b[43m)\u001b[49m \u001b[38;5;28;01mas\u001b[39;00m features:\n\u001b[1;32m    316\u001b[0m         crs \u001b[38;5;241m=\u001b[39m features\u001b[38;5;241m.\u001b[39mcrs_wkt\n\u001b[1;32m    317\u001b[0m         \u001b[38;5;66;03m# attempt to get EPSG code\u001b[39;00m\n",
      "File \u001b[0;32m~/townsnet/.venv/lib/python3.10/site-packages/fiona/env.py:457\u001b[0m, in \u001b[0;36mensure_env_with_credentials.<locals>.wrapper\u001b[0;34m(*args, **kwds)\u001b[0m\n\u001b[1;32m    454\u001b[0m     session \u001b[38;5;241m=\u001b[39m DummySession()\n\u001b[1;32m    456\u001b[0m \u001b[38;5;28;01mwith\u001b[39;00m env_ctor(session\u001b[38;5;241m=\u001b[39msession):\n\u001b[0;32m--> 457\u001b[0m     \u001b[38;5;28;01mreturn\u001b[39;00m \u001b[43mf\u001b[49m\u001b[43m(\u001b[49m\u001b[38;5;241;43m*\u001b[39;49m\u001b[43margs\u001b[49m\u001b[43m,\u001b[49m\u001b[43m \u001b[49m\u001b[38;5;241;43m*\u001b[39;49m\u001b[38;5;241;43m*\u001b[39;49m\u001b[43mkwds\u001b[49m\u001b[43m)\u001b[49m\n",
      "File \u001b[0;32m~/townsnet/.venv/lib/python3.10/site-packages/fiona/__init__.py:292\u001b[0m, in \u001b[0;36mopen\u001b[0;34m(fp, mode, driver, schema, crs, encoding, layer, vfs, enabled_drivers, crs_wkt, allow_unsupported_drivers, **kwargs)\u001b[0m\n\u001b[1;32m    289\u001b[0m     path \u001b[38;5;241m=\u001b[39m parse_path(fp)\n\u001b[1;32m    291\u001b[0m \u001b[38;5;28;01mif\u001b[39;00m mode \u001b[38;5;129;01min\u001b[39;00m (\u001b[38;5;124m\"\u001b[39m\u001b[38;5;124ma\u001b[39m\u001b[38;5;124m\"\u001b[39m, \u001b[38;5;124m\"\u001b[39m\u001b[38;5;124mr\u001b[39m\u001b[38;5;124m\"\u001b[39m):\n\u001b[0;32m--> 292\u001b[0m     colxn \u001b[38;5;241m=\u001b[39m \u001b[43mCollection\u001b[49m\u001b[43m(\u001b[49m\n\u001b[1;32m    293\u001b[0m \u001b[43m        \u001b[49m\u001b[43mpath\u001b[49m\u001b[43m,\u001b[49m\n\u001b[1;32m    294\u001b[0m \u001b[43m        \u001b[49m\u001b[43mmode\u001b[49m\u001b[43m,\u001b[49m\n\u001b[1;32m    295\u001b[0m \u001b[43m        \u001b[49m\u001b[43mdriver\u001b[49m\u001b[38;5;241;43m=\u001b[39;49m\u001b[43mdriver\u001b[49m\u001b[43m,\u001b[49m\n\u001b[1;32m    296\u001b[0m \u001b[43m        \u001b[49m\u001b[43mencoding\u001b[49m\u001b[38;5;241;43m=\u001b[39;49m\u001b[43mencoding\u001b[49m\u001b[43m,\u001b[49m\n\u001b[1;32m    297\u001b[0m \u001b[43m        \u001b[49m\u001b[43mlayer\u001b[49m\u001b[38;5;241;43m=\u001b[39;49m\u001b[43mlayer\u001b[49m\u001b[43m,\u001b[49m\n\u001b[1;32m    298\u001b[0m \u001b[43m        \u001b[49m\u001b[43menabled_drivers\u001b[49m\u001b[38;5;241;43m=\u001b[39;49m\u001b[43menabled_drivers\u001b[49m\u001b[43m,\u001b[49m\n\u001b[1;32m    299\u001b[0m \u001b[43m        \u001b[49m\u001b[43mallow_unsupported_drivers\u001b[49m\u001b[38;5;241;43m=\u001b[39;49m\u001b[43mallow_unsupported_drivers\u001b[49m\u001b[43m,\u001b[49m\n\u001b[1;32m    300\u001b[0m \u001b[43m        \u001b[49m\u001b[38;5;241;43m*\u001b[39;49m\u001b[38;5;241;43m*\u001b[39;49m\u001b[43mkwargs\u001b[49m\n\u001b[1;32m    301\u001b[0m \u001b[43m    \u001b[49m\u001b[43m)\u001b[49m\n\u001b[1;32m    302\u001b[0m \u001b[38;5;28;01melif\u001b[39;00m mode \u001b[38;5;241m==\u001b[39m \u001b[38;5;124m\"\u001b[39m\u001b[38;5;124mw\u001b[39m\u001b[38;5;124m\"\u001b[39m:\n\u001b[1;32m    303\u001b[0m     colxn \u001b[38;5;241m=\u001b[39m Collection(\n\u001b[1;32m    304\u001b[0m         path,\n\u001b[1;32m    305\u001b[0m         mode,\n\u001b[0;32m   (...)\u001b[0m\n\u001b[1;32m    314\u001b[0m         \u001b[38;5;241m*\u001b[39m\u001b[38;5;241m*\u001b[39mkwargs\n\u001b[1;32m    315\u001b[0m     )\n",
      "File \u001b[0;32m~/townsnet/.venv/lib/python3.10/site-packages/fiona/collection.py:243\u001b[0m, in \u001b[0;36mCollection.__init__\u001b[0;34m(self, path, mode, driver, schema, crs, encoding, layer, vsi, archive, enabled_drivers, crs_wkt, ignore_fields, ignore_geometry, include_fields, wkt_version, allow_unsupported_drivers, **kwargs)\u001b[0m\n\u001b[1;32m    241\u001b[0m \u001b[38;5;28;01mif\u001b[39;00m \u001b[38;5;28mself\u001b[39m\u001b[38;5;241m.\u001b[39mmode \u001b[38;5;241m==\u001b[39m \u001b[38;5;124m\"\u001b[39m\u001b[38;5;124mr\u001b[39m\u001b[38;5;124m\"\u001b[39m:\n\u001b[1;32m    242\u001b[0m     \u001b[38;5;28mself\u001b[39m\u001b[38;5;241m.\u001b[39msession \u001b[38;5;241m=\u001b[39m Session()\n\u001b[0;32m--> 243\u001b[0m     \u001b[38;5;28;43mself\u001b[39;49m\u001b[38;5;241;43m.\u001b[39;49m\u001b[43msession\u001b[49m\u001b[38;5;241;43m.\u001b[39;49m\u001b[43mstart\u001b[49m\u001b[43m(\u001b[49m\u001b[38;5;28;43mself\u001b[39;49m\u001b[43m,\u001b[49m\u001b[43m \u001b[49m\u001b[38;5;241;43m*\u001b[39;49m\u001b[38;5;241;43m*\u001b[39;49m\u001b[43mkwargs\u001b[49m\u001b[43m)\u001b[49m\n\u001b[1;32m    244\u001b[0m \u001b[38;5;28;01melif\u001b[39;00m \u001b[38;5;28mself\u001b[39m\u001b[38;5;241m.\u001b[39mmode \u001b[38;5;129;01min\u001b[39;00m (\u001b[38;5;124m\"\u001b[39m\u001b[38;5;124ma\u001b[39m\u001b[38;5;124m\"\u001b[39m, \u001b[38;5;124m\"\u001b[39m\u001b[38;5;124mw\u001b[39m\u001b[38;5;124m\"\u001b[39m):\n\u001b[1;32m    245\u001b[0m     \u001b[38;5;28mself\u001b[39m\u001b[38;5;241m.\u001b[39msession \u001b[38;5;241m=\u001b[39m WritingSession()\n",
      "File \u001b[0;32mfiona/ogrext.pyx:588\u001b[0m, in \u001b[0;36mfiona.ogrext.Session.start\u001b[0;34m()\u001b[0m\n",
      "File \u001b[0;32mfiona/ogrext.pyx:143\u001b[0m, in \u001b[0;36mfiona.ogrext.gdal_open_vector\u001b[0;34m()\u001b[0m\n",
      "\u001b[0;31mDriverError\u001b[0m: data/regions/5188/settlements.geojson: No such file or directory"
     ]
    }
   ],
   "source": [
    "import geopandas as gpd\n",
    "import pandas as pd\n",
    "from tqdm import tqdm\n",
    "from townsnet import Region\n",
    "\n",
    "for region_id, region_name in regions_dict.items():\n",
    "  region_path = f\"data/regions/{region_id}/\"\n",
    "\n",
    "  districts = gpd.read_file(region_path + 'districts.geojson')\n",
    "  settlements = gpd.read_file(region_path + 'settlements.geojson')\n",
    "  towns = gpd.read_file(region_path + 'towns.geojson')\n",
    "  adj_mx = pd.read_pickle(region_path + 'adj_mx.pickle')\n",
    "  \n",
    "  crs = towns.estimate_utm_crs()\n",
    "  region = Region(\n",
    "    districts.to_crs(crs), \n",
    "    settlements.to_crs(crs), \n",
    "    towns.to_crs(crs), \n",
    "    adj_mx\n",
    "  )\n",
    "  for service_type in tqdm(region.service_types):\n",
    "    try:\n",
    "      gdf = gpd.read_file(region_path + f'services/{service_type.name}.geojson').to_crs(crs)\n",
    "      gdf = region.match_services_towns(gdf)\n",
    "      region.update_services(service_type, gdf)\n",
    "    except:\n",
    "      ...\n",
    "  \n",
    "  region.to_pickle(region_path + f'{region_id}.pickle')\n",
    "  "
   ]
  },
  {
   "cell_type": "markdown",
   "metadata": {},
   "source": [
    "## Выгрузка иерархии показателей"
   ]
  },
  {
   "cell_type": "code",
   "execution_count": 16,
   "metadata": {},
   "outputs": [
    {
     "name": "stdout",
     "output_type": "stream",
     "text": [
      "5.1 Обеспеченность объектами образования\n",
      "5.1.1 Обеспеченность детский сад\n",
      "5.1.2 Обеспеченность школа\n",
      "5.1.3 Обеспеченность центр детского творчества\n",
      "5.1.4 Обеспеченность школа искусств\n",
      "5.2 Обеспеченность объектами здравоохранения\n",
      "5.2.1 Обеспеченность ФАП / амбулатория\n",
      "5.2.2 Обеспеченность аптека\n",
      "5.2.3 Обеспеченность поликлиника / центр семейной медицины\n",
      "5.2.4 Обеспеченность участковая больница\n",
      "5.2.5 Обеспеченность городская больница (д/в)\n",
      "5.2.6 Обеспеченность коммерческая клиника\n",
      "5.3 Обеспеченность объектами торговли\n",
      "5.3.1 Обеспеченность продуктовый магазин\n",
      "5.3.2 Обеспеченность хозяйственный магазин\n",
      "5.3.3 Обеспеченность ТЦ / супермаркет\n",
      "5.3.4 Обеспеченность зоомагазин\n",
      "5.3.5 Обеспеченность ТРК / гипермаркет\n",
      "5.3.6 Обеспеченность профильный магазин\n",
      "5.4 Обеспеченность объектами общепита\n",
      "5.4.1 Обеспеченность кафе / кофейня\n",
      "5.4.2 Обеспеченность бар / ресторан\n",
      "5.4.3 Обеспеченность фудкорт\n",
      "5.5 Обеспеченность объектами досуга\n",
      "5.5.1 Обеспеченность универсальный зал\n",
      "5.5.2 Обеспеченность комьюнити-центр / дом культуры\n",
      "5.5.3 Обеспеченность медиатека / библиотека\n",
      "5.5.4 Обеспеченность культовый объект\n",
      "5.6 Обеспеченность объектами рекреации\n",
      "5.6.1 Обеспеченность детская площадка\n",
      "5.6.2 Обеспеченность сквер / бульвар / лесопарк\n",
      "5.6.3 Обеспеченность общественные пространства\n",
      "5.6.4 Обеспеченность парк\n",
      "5.6.5 Обеспеченность парк развлечений\n",
      "5.6.6 Обеспеченность площадка для выгула собак\n",
      "5.7 Обеспеченность объектами спорта\n",
      "5.7.1 Обеспеченность воркаут / школьный спортзал\n",
      "5.7.2 Обеспеченность спортзал ОП / фитнес-центр\n",
      "5.7.3 Обеспеченность скейтпарк / воркаут для подростков\n",
      "5.7.4 Обеспеченность ФОК / бассейн\n",
      "5.8 Обеспеченность объектами услуг\n",
      "5.8.1 Обеспеченность пункт доставки / почтовое отделение\n",
      "5.8.2 Обеспеченность парикмахерская / салон красоты\n",
      "5.8.3 Обеспеченность бытовые услуги\n",
      "5.8.4 Обеспеченность отделение банка\n",
      "5.9 Обеспеченность объектами транспорта\n",
      "5.9.1 Обеспеченность остановка ОТ\n",
      "5.9.2 Обеспеченность парковка\n",
      "5.9.3 Обеспеченность автозаправка\n",
      "5.9.4 Обеспеченность ЖД станция\n",
      "5.9.5 Обеспеченность автосалон / автосервис\n",
      "5.10 Обеспеченность объектами безопасности\n",
      "5.10.1 Обеспеченность участковый пункт полиции\n",
      "5.10.2 Обеспеченность опорный пункт полиции\n",
      "5.10.3 Обеспеченность пожарное депо\n"
     ]
    }
   ],
   "source": [
    "infrastructure_dict = {\n",
    "  'EDUCATION': 'Обеспеченность объектами образования',\n",
    "  'HEALTHCARE': 'Обеспеченность объектами здравоохранения',\n",
    "  'COMMERCE': 'Обеспеченность объектами торговли',\n",
    "  'CATERING': 'Обеспеченность объектами общепита',\n",
    "  'LEISURE': 'Обеспеченность объектами досуга',\n",
    "  'RECREATION': 'Обеспеченность объектами рекреации',\n",
    "  'SPORT': \"Обеспеченность объектами спорта\",\n",
    "  'SERVICE': \"Обеспеченность объектами услуг\",\n",
    "  'TRANSPORT': \"Обеспеченность объектами транспорта\",\n",
    "  'SAFENESS': \"Обеспеченность объектами безопасности\",\n",
    "}\n",
    "\n",
    "st_df = region.get_service_types_df()\n",
    "for i,infrastructure in enumerate(st_df.infrastructure.unique()):\n",
    "  print(f\"5.{i+1} {infrastructure_dict[infrastructure]}\")\n",
    "  st_sub_df = st_df[st_df.infrastructure == infrastructure]\n",
    "  for j, st_name in enumerate(st_sub_df.name_ru):\n",
    "    print(f\"5.{i+1}.{j+1} Обеспеченность {st_name}\")"
   ]
  }
 ],
 "metadata": {
  "kernelspec": {
   "display_name": ".venv",
   "language": "python",
   "name": "python3"
  },
  "language_info": {
   "codemirror_mode": {
    "name": "ipython",
    "version": 3
   },
   "file_extension": ".py",
   "mimetype": "text/x-python",
   "name": "python",
   "nbconvert_exporter": "python",
   "pygments_lexer": "ipython3",
   "version": "3.10.12"
  }
 },
 "nbformat": 4,
 "nbformat_minor": 2
}
