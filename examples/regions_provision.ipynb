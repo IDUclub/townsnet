{
 "cells": [
  {
   "cell_type": "code",
   "execution_count": 1,
   "metadata": {},
   "outputs": [],
   "source": [
    "from townsnet import Region\n",
    "\n",
    "regions_dict = {\n",
    "  1: 'Ленинградская область',\n",
    "  3138: 'Санкт-Петербург',\n",
    "  3268: 'Москва',\n",
    "  3427: 'Волгоградская область',\n",
    "  3902: 'Тульская область',\n",
    "  4013: 'Омская область',\n",
    "  4437: 'Краснодарский край',\n",
    "  4882: 'Тюменская область',\n",
    "  5188: 'Московская область',\n",
    "}\n",
    "\n",
    "regions = {region_id:Region.from_pickle(f'data/regions/{region_id}/{region_id}.pickle') for region_id in regions_dict.keys()}"
   ]
  },
  {
   "cell_type": "code",
   "execution_count": 2,
   "metadata": {},
   "outputs": [
    {
     "name": "stdout",
     "output_type": "stream",
     "text": [
      "1 26602\n",
      "3138 55892\n",
      "3268 109623\n",
      "3427 14784\n",
      "3902 11545\n",
      "4013 11951\n",
      "4437 51867\n",
      "4882 15139\n",
      "5188 97400\n"
     ]
    }
   ],
   "source": [
    "for region_id, region in regions.items():\n",
    "  print(region_id, len(region.get_services_gdf()))"
   ]
  },
  {
   "cell_type": "code",
   "execution_count": 3,
   "metadata": {},
   "outputs": [
    {
     "name": "stderr",
     "output_type": "stream",
     "text": [
      "100%|██████████| 9/9 [05:30<00:00, 36.73s/it]\n"
     ]
    }
   ],
   "source": [
    "from townsnet import Provision\n",
    "from tqdm import tqdm\n",
    "from multiprocessing import Pool\n",
    "\n",
    "for region_id, region in tqdm(regions.items()):\n",
    "  provision = Provision(region=region)\n",
    "  \n",
    "  def calculate_provision(st):\n",
    "    data_path = f'data/regions/{region_id}/provisions/'\n",
    "    d_gdf, s_gdf, t_gdf, l_gdf = provision.calculate(st)\n",
    "    t_gdf['settlement_name'] = t_gdf['settlement_name'].apply(lambda v : None if v==0 else v)\n",
    "    t_gdf['district_name'] = t_gdf['district_name'].apply(lambda v : None if v==0 else v)\n",
    "    d_gdf.to_parquet(data_path + f'{st.name}_districts.parquet')\n",
    "    s_gdf.to_parquet(data_path + f'{st.name}_settlements.parquet')\n",
    "    t_gdf.to_parquet(data_path + f'{st.name}_towns.parquet')\n",
    "    l_gdf.to_parquet(data_path + f'{st.name}_links.parquet')\n",
    "  \n",
    "  with Pool() as pool:\n",
    "    pool.map(calculate_provision, region.service_types)"
   ]
  },
  {
   "cell_type": "code",
   "execution_count": 4,
   "metadata": {},
   "outputs": [],
   "source": [
    "import geopandas as gpd\n",
    "import pandas as pd\n",
    "\n",
    "source = 'https://www.openstreetmap.org/'\n",
    "period = '2023'\n",
    "\n",
    "for region_id, region_name in regions_dict.items():\n",
    "  data_path = f'data/regions/{region_id}/'\n",
    "  region = regions[region_id]\n",
    "  st_df = region.get_service_types_df()\n",
    "  values = []\n",
    "  for i,infrastructure in enumerate(st_df.infrastructure.unique()):\n",
    "    st_sub_df = st_df[st_df.infrastructure == infrastructure]\n",
    "    for j, st_name in enumerate(st_sub_df.name):\n",
    "      code = f'5.{i+1}.{j+1}'\n",
    "      d_gdf = gpd.read_parquet(data_path + f'provisions/{st_name}_districts.parquet')\n",
    "      s_gdf = gpd.read_parquet(data_path + f'provisions/{st_name}_settlements.parquet')\n",
    "      t_gdf = gpd.read_parquet(data_path + f'provisions/{st_name}_towns.parquet')\n",
    "      l_gdf = gpd.read_parquet(data_path + f'provisions/{st_name}_links.parquet')\n",
    "      total = Provision.total_provision(d_gdf)\n",
    "      values.append({\n",
    "        '№ п/п': code,\n",
    "        'Значение': round(total,2) if total is not None else None,\n",
    "        'Территория': region_name,\n",
    "        'Источник': source,\n",
    "        'Период': period,\n",
    "      })\n",
    "      for district_id in d_gdf.index:\n",
    "        district_name = d_gdf.loc[district_id, 'name']\n",
    "        total = d_gdf.loc[district_id, 'provision']\n",
    "        values.append({\n",
    "          '№ п/п': code,\n",
    "          'Значение': round(total,2) if total is not None else None,\n",
    "          'Территория': district_name,\n",
    "          'Источник': source,\n",
    "          'Период': period,\n",
    "        })\n",
    "      for settlement_id in s_gdf.index:\n",
    "        settlement_name = s_gdf.loc[settlement_id, 'name']\n",
    "        total = s_gdf.loc[settlement_id, 'provision']\n",
    "        values.append({\n",
    "          '№ п/п': code,\n",
    "          'Значение': round(total,2) if total is not None else None,\n",
    "          'Территория': settlement_name,\n",
    "          'Источник': source,\n",
    "          'Период': period,\n",
    "        })\n",
    "  values_df = pd.DataFrame(values)\n",
    "  values_df.to_excel(data_path+f'{region_id} {region_name}.xlsx', index=False)"
   ]
  },
  {
   "cell_type": "code",
   "execution_count": 5,
   "metadata": {},
   "outputs": [],
   "source": [
    "region = regions[1]"
   ]
  },
  {
   "cell_type": "code",
   "execution_count": 6,
   "metadata": {},
   "outputs": [],
   "source": [
    "from shapely import set_precision\n",
    "from statistics import mean\n",
    "\n",
    "def get_region_provisions(region, region_id):\n",
    "  data_path = f'data/regions/{region_id}/provisions/'\n",
    "  d_gdfs = []\n",
    "  s_gdfs = []\n",
    "  t_gdfs = []\n",
    "  for st in region.service_types:\n",
    "    prov_col = f'provision_{st.name}'\n",
    "\n",
    "    d_gdf = gpd.read_parquet(data_path + f'{st.name}_districts.parquet')[['geometry', 'name', 'provision']].rename(columns={\n",
    "      'provision': f'provision_{st.name}',\n",
    "      'name': 'district_name'\n",
    "    })\n",
    "    d_gdf[prov_col] = d_gdf[prov_col].apply(lambda p : round(p,2))\n",
    "    d_gdfs.append(d_gdf)\n",
    "\n",
    "    s_gdf = gpd.read_parquet(data_path + f'{st.name}_settlements.parquet')[['geometry', 'name', 'provision']].rename(columns={\n",
    "      'provision': f'provision_{st.name}',                                                                                                                               \n",
    "      'name': 'settlement_name'\n",
    "    })\n",
    "    s_gdf[prov_col] = s_gdf[prov_col].apply(lambda p : round(p,2))\n",
    "    s_gdfs.append(s_gdf)\n",
    "\n",
    "    t_gdf = gpd.read_parquet(data_path + f'{st.name}_towns.parquet')[['geometry', 'town_name', 'provision']].rename(columns={'provision': f'provision_{st.name}'})\n",
    "    t_gdf[prov_col] = t_gdf[prov_col].apply(lambda p : round(p,2))\n",
    "    t_gdfs.append(t_gdf)\n",
    "\n",
    "  d_gdf = d_gdfs[0][['geometry', 'district_name']]\n",
    "  s_gdf = s_gdfs[0][['geometry', 'settlement_name']]\n",
    "  t_gdf = t_gdfs[0][['geometry', 'town_name']]\n",
    "\n",
    "  d_gdf = pd.concat([d_gdf, *[gdf[filter(lambda c : 'provision' in c, gdf.columns)] for gdf in d_gdfs]], axis=1)\n",
    "  s_gdf = pd.concat([s_gdf, *[gdf[filter(lambda c : 'provision' in c, gdf.columns)] for gdf in s_gdfs]], axis=1)\n",
    "  t_gdf = pd.concat([t_gdf, *[gdf[filter(lambda c : 'provision' in c, gdf.columns)] for gdf in t_gdfs]], axis=1)\n",
    "\n",
    "  for gdf in [d_gdf, s_gdf, t_gdf]:\n",
    "    gdf['provision'] = gdf[filter(lambda c : 'provision' in c, gdf.columns)].apply(mean, axis=1).apply(lambda p : round(p, 2))\n",
    "    gdf.to_crs(4326, inplace=True)\n",
    "    gdf['geometry'] = set_precision(gdf['geometry'], grid_size=0.0001)\n",
    "\n",
    "  return d_gdf, s_gdf, t_gdf"
   ]
  },
  {
   "cell_type": "code",
   "execution_count": 7,
   "metadata": {},
   "outputs": [],
   "source": [
    "for region_id, region in regions.items():\n",
    "  data_path = f'data/regions/{region_id}/provisions/'\n",
    "  d_gdf, s_gdf, t_gdf = get_region_provisions(region, region_id)\n",
    "  d_gdf.to_file(data_path + 'districts.geojson')\n",
    "  s_gdf.to_file(data_path + 'settlements.geojson')\n",
    "  t_gdf.to_file(data_path + 'towns.geojson')"
   ]
  }
 ],
 "metadata": {
  "kernelspec": {
   "display_name": ".venv",
   "language": "python",
   "name": "python3"
  },
  "language_info": {
   "codemirror_mode": {
    "name": "ipython",
    "version": 3
   },
   "file_extension": ".py",
   "mimetype": "text/x-python",
   "name": "python",
   "nbconvert_exporter": "python",
   "pygments_lexer": "ipython3",
   "version": "3.10.12"
  }
 },
 "nbformat": 4,
 "nbformat_minor": 2
}
