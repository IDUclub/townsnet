{
 "cells": [
  {
   "cell_type": "code",
   "execution_count": 11,
   "metadata": {},
   "outputs": [],
   "source": [
    "import io\n",
    "import pandas as pd\n",
    "import geopandas as gpd\n",
    "import requests\n",
    "\n",
    "def post(initial_file_df:pd.DataFrame, filename, folder, url) -> None:\n",
    "  data_bytes_io = io.BytesIO()\n",
    "  initial_file_df.to_pickle(data_bytes_io)\n",
    "  file_to_post = data_bytes_io.getvalue()\n",
    "\n",
    "  files = {\"files\": (filename, file_to_post)}\n",
    "  data = {\"newdir\": \"upload/\" + folder}\n",
    "\n",
    "  response = requests.put(\n",
    "      url, files=files, data=data, timeout=500\n",
    "  )\n",
    "  print(response.status_code)\n",
    "  print(response.text)"
   ]
  },
  {
   "cell_type": "code",
   "execution_count": 3,
   "metadata": {},
   "outputs": [],
   "source": [
    "from townsnet import Region\n",
    "\n",
    "regions_dict = {\n",
    "  1: 'Ленинградская область',\n",
    "  3138: 'Санкт-Петербург',\n",
    "  3268: 'Москва',\n",
    "  3427: 'Волгоградская область',\n",
    "  3902: 'Тульская область',\n",
    "  4013: 'Омская область',\n",
    "  4437: 'Краснодарский край',\n",
    "  4882: 'Тюменская область',\n",
    "  5188: 'Московская область',\n",
    "}\n",
    "\n",
    "for region_id, _ in regions_dict.items():\n",
    "  region = Region.from_pickle(f'data/regions/{region_id}/{region_id}.pickle')"
   ]
  },
  {
   "cell_type": "code",
   "execution_count": 12,
   "metadata": {},
   "outputs": [
    {
     "name": "stdout",
     "output_type": "stream",
     "text": [
      "404\n",
      "<!DOCTYPE HTML PUBLIC \"-//W3C//DTD HTML 4.01//EN\"\n",
      "        \"http://www.w3.org/TR/html4/strict.dtd\">\n",
      "<html>\n",
      "    <head>\n",
      "        <meta http-equiv=\"Content-Type\" content=\"text/html;charset=utf-8\">\n",
      "        <title>Error response</title>\n",
      "    </head>\n",
      "    <body>\n",
      "        <h1>Error response</h1>\n",
      "        <p>Error code: 404</p>\n",
      "        <p>Message: Can only POST/PUT to /upload.</p>\n",
      "        <p>Error code explanation: HTTPStatus.NOT_FOUND - Nothing matches the given URI.</p>\n",
      "    </body>\n",
      "</html>\n",
      "\n"
     ]
    }
   ],
   "source": [
    "gdf = gpd.read_file('data/regions/1/region.geojson')\n",
    "post(gdf, 'region.geojson', 'townsnet/1/', 'http://10.32.1.107:5000/')"
   ]
  }
 ],
 "metadata": {
  "kernelspec": {
   "display_name": ".venv",
   "language": "python",
   "name": "python3"
  },
  "language_info": {
   "codemirror_mode": {
    "name": "ipython",
    "version": 3
   },
   "file_extension": ".py",
   "mimetype": "text/x-python",
   "name": "python",
   "nbconvert_exporter": "python",
   "pygments_lexer": "ipython3",
   "version": "3.10.12"
  }
 },
 "nbformat": 4,
 "nbformat_minor": 2
}
