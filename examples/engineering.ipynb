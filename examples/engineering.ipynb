{
 "cells": [
  {
   "cell_type": "markdown",
   "metadata": {},
   "source": [
    "# Инженерка"
   ]
  },
  {
   "cell_type": "markdown",
   "metadata": {},
   "source": [
    "## Подготовка данных"
   ]
  },
  {
   "cell_type": "markdown",
   "metadata": {},
   "source": [
    "Получаем типы физических объектов"
   ]
  },
  {
   "cell_type": "code",
   "execution_count": 15,
   "metadata": {},
   "outputs": [
    {
     "data": {
      "text/html": [
       "<div>\n",
       "<style scoped>\n",
       "    .dataframe tbody tr th:only-of-type {\n",
       "        vertical-align: middle;\n",
       "    }\n",
       "\n",
       "    .dataframe tbody tr th {\n",
       "        vertical-align: top;\n",
       "    }\n",
       "\n",
       "    .dataframe thead th {\n",
       "        text-align: right;\n",
       "    }\n",
       "</style>\n",
       "<table border=\"1\" class=\"dataframe\">\n",
       "  <thead>\n",
       "    <tr style=\"text-align: right;\">\n",
       "      <th></th>\n",
       "      <th>name</th>\n",
       "      <th>physical_object_function</th>\n",
       "    </tr>\n",
       "    <tr>\n",
       "      <th>physical_object_type_id</th>\n",
       "      <th></th>\n",
       "      <th></th>\n",
       "    </tr>\n",
       "  </thead>\n",
       "  <tbody>\n",
       "    <tr>\n",
       "      <th>1</th>\n",
       "      <td>Рекреационная зона</td>\n",
       "      <td>None</td>\n",
       "    </tr>\n",
       "    <tr>\n",
       "      <th>2</th>\n",
       "      <td>Водный объект</td>\n",
       "      <td>None</td>\n",
       "    </tr>\n",
       "    <tr>\n",
       "      <th>3</th>\n",
       "      <td>Зеленая зона</td>\n",
       "      <td>None</td>\n",
       "    </tr>\n",
       "    <tr>\n",
       "      <th>4</th>\n",
       "      <td>Жилой дом</td>\n",
       "      <td>None</td>\n",
       "    </tr>\n",
       "    <tr>\n",
       "      <th>5</th>\n",
       "      <td>Здание</td>\n",
       "      <td>None</td>\n",
       "    </tr>\n",
       "  </tbody>\n",
       "</table>\n",
       "</div>"
      ],
      "text/plain": [
       "                                       name physical_object_function\n",
       "physical_object_type_id                                             \n",
       "1                        Рекреационная зона                     None\n",
       "2                             Водный объект                     None\n",
       "3                              Зеленая зона                     None\n",
       "4                                 Жилой дом                     None\n",
       "5                                    Здание                     None"
      ]
     },
     "execution_count": 15,
     "metadata": {},
     "output_type": "execute_result"
    }
   ],
   "source": [
    "import requests\n",
    "import pandas as pd\n",
    "\n",
    "res = requests.get('http://10.32.1.107:5300/api/v1/physical_object_types')\n",
    "physical_objects_types = pd.DataFrame(res.json()).set_index('physical_object_type_id', drop=True)\n",
    "# physical_objects_types.to_excel('pot.xlsx')\n",
    "physical_objects_types.head()"
   ]
  },
  {
   "cell_type": "markdown",
   "metadata": {},
   "source": [
    "Типы индикаторов"
   ]
  },
  {
   "cell_type": "code",
   "execution_count": 28,
   "metadata": {},
   "outputs": [
    {
     "data": {
      "text/html": [
       "<div>\n",
       "<style scoped>\n",
       "    .dataframe tbody tr th:only-of-type {\n",
       "        vertical-align: middle;\n",
       "    }\n",
       "\n",
       "    .dataframe tbody tr th {\n",
       "        vertical-align: top;\n",
       "    }\n",
       "\n",
       "    .dataframe thead th {\n",
       "        text-align: right;\n",
       "    }\n",
       "</style>\n",
       "<table border=\"1\" class=\"dataframe\">\n",
       "  <thead>\n",
       "    <tr style=\"text-align: right;\">\n",
       "      <th></th>\n",
       "      <th>name_full</th>\n",
       "      <th>name_short</th>\n",
       "      <th>measurement_unit</th>\n",
       "      <th>level</th>\n",
       "      <th>list_label</th>\n",
       "      <th>parent_id</th>\n",
       "      <th>created_at</th>\n",
       "      <th>updated_at</th>\n",
       "    </tr>\n",
       "    <tr>\n",
       "      <th>indicator_id</th>\n",
       "      <th></th>\n",
       "      <th></th>\n",
       "      <th></th>\n",
       "      <th></th>\n",
       "      <th></th>\n",
       "      <th></th>\n",
       "      <th></th>\n",
       "      <th></th>\n",
       "    </tr>\n",
       "  </thead>\n",
       "  <tbody>\n",
       "    <tr>\n",
       "      <th>261</th>\n",
       "      <td>Расчет обеспеченности</td>\n",
       "      <td>Расчет обеспеченности</td>\n",
       "      <td>None</td>\n",
       "      <td>1</td>\n",
       "      <td>5</td>\n",
       "      <td>NaN</td>\n",
       "      <td>2024-10-02T06:28:21.885235Z</td>\n",
       "      <td>2024-10-02T06:28:21.885235Z</td>\n",
       "    </tr>\n",
       "    <tr>\n",
       "      <th>34</th>\n",
       "      <td>Демография</td>\n",
       "      <td>Демография</td>\n",
       "      <td>None</td>\n",
       "      <td>1</td>\n",
       "      <td>2</td>\n",
       "      <td>NaN</td>\n",
       "      <td>2024-10-02T06:28:21.885235Z</td>\n",
       "      <td>2024-10-02T06:28:21.885235Z</td>\n",
       "    </tr>\n",
       "    <tr>\n",
       "      <th>46</th>\n",
       "      <td>Транспорт</td>\n",
       "      <td>Транспорт</td>\n",
       "      <td>None</td>\n",
       "      <td>1</td>\n",
       "      <td>3</td>\n",
       "      <td>NaN</td>\n",
       "      <td>2024-10-02T06:28:21.885235Z</td>\n",
       "      <td>2024-10-02T06:28:21.885235Z</td>\n",
       "    </tr>\n",
       "    <tr>\n",
       "      <th>135</th>\n",
       "      <td>Экология</td>\n",
       "      <td>Экология</td>\n",
       "      <td>None</td>\n",
       "      <td>1</td>\n",
       "      <td>6</td>\n",
       "      <td>NaN</td>\n",
       "      <td>2024-10-02T06:28:21.885235Z</td>\n",
       "      <td>2024-10-02T06:28:21.885235Z</td>\n",
       "    </tr>\n",
       "    <tr>\n",
       "      <th>178</th>\n",
       "      <td>Социальные риски</td>\n",
       "      <td>Социальные риски</td>\n",
       "      <td>None</td>\n",
       "      <td>1</td>\n",
       "      <td>8</td>\n",
       "      <td>NaN</td>\n",
       "      <td>2024-10-02T06:28:21.885235Z</td>\n",
       "      <td>2024-10-02T06:28:21.885235Z</td>\n",
       "    </tr>\n",
       "  </tbody>\n",
       "</table>\n",
       "</div>"
      ],
      "text/plain": [
       "                          name_full             name_short measurement_unit  \\\n",
       "indicator_id                                                                  \n",
       "261           Расчет обеспеченности  Расчет обеспеченности             None   \n",
       "34                       Демография             Демография             None   \n",
       "46                        Транспорт              Транспорт             None   \n",
       "135                        Экология               Экология             None   \n",
       "178                Социальные риски       Социальные риски             None   \n",
       "\n",
       "              level list_label  parent_id                   created_at  \\\n",
       "indicator_id                                                             \n",
       "261               1          5        NaN  2024-10-02T06:28:21.885235Z   \n",
       "34                1          2        NaN  2024-10-02T06:28:21.885235Z   \n",
       "46                1          3        NaN  2024-10-02T06:28:21.885235Z   \n",
       "135               1          6        NaN  2024-10-02T06:28:21.885235Z   \n",
       "178               1          8        NaN  2024-10-02T06:28:21.885235Z   \n",
       "\n",
       "                               updated_at  \n",
       "indicator_id                               \n",
       "261           2024-10-02T06:28:21.885235Z  \n",
       "34            2024-10-02T06:28:21.885235Z  \n",
       "46            2024-10-02T06:28:21.885235Z  \n",
       "135           2024-10-02T06:28:21.885235Z  \n",
       "178           2024-10-02T06:28:21.885235Z  "
      ]
     },
     "execution_count": 28,
     "metadata": {},
     "output_type": "execute_result"
    }
   ],
   "source": [
    "res = requests.get('http://10.32.1.107:5300/api/v1/indicators_by_parent', {'get_all_subtree':True})\n",
    "indicators = pd.DataFrame(res.json()).set_index('indicator_id', drop=True)\n",
    "indicators.head()"
   ]
  },
  {
   "cell_type": "markdown",
   "metadata": {},
   "source": [
    "Маппинг индикаторов и типов физ объектов"
   ]
  },
  {
   "cell_type": "code",
   "execution_count": 29,
   "metadata": {},
   "outputs": [],
   "source": [
    "INDICATORS_POTS = {\n",
    "  88: [],\n",
    "  89: [21, 33, 34, 35],\n",
    "  90: [38, 40],\n",
    "  91: [37, 39],\n",
    "  92: [],\n",
    "  93: [],\n",
    "}"
   ]
  },
  {
   "cell_type": "markdown",
   "metadata": {},
   "source": [
    "Тогда необходимые физ объекты выглядят так"
   ]
  },
  {
   "cell_type": "code",
   "execution_count": 48,
   "metadata": {},
   "outputs": [
    {
     "data": {
      "text/plain": [
       "{21, 33, 34, 35, 37, 38, 39, 40}"
      ]
     },
     "execution_count": 48,
     "metadata": {},
     "output_type": "execute_result"
    }
   ],
   "source": [
    "PHYSICAL_OBJECTS_IDS = {pot_id for ind_id, ind_pots in INDICATORS_POTS.items() for pot_id in ind_pots}\n",
    "PHYSICAL_OBJECTS_IDS"
   ]
  },
  {
   "cell_type": "code",
   "execution_count": 46,
   "metadata": {},
   "outputs": [
    {
     "name": "stdout",
     "output_type": "stream",
     "text": [
      "Количество объектов инженерной инфраструктуры:\n",
      "\n",
      "\n",
      "\n",
      "Количество электростанций (ТЭС, АЭС и пр.):\n",
      "- Электростанция\n",
      "- Ветрогенератор\n",
      "- Гидроэлектростанция\n",
      "- Атомная электростанция\n",
      "\n",
      "\n",
      "Количество больших водозаборов:\n",
      "- Водонапорная башня\n",
      "- Водозаборное сооружение\n",
      "\n",
      "\n",
      "Количество очистительных сооружений:\n",
      "- Сооружение для очистки воды\n",
      "- Водоочистное сооружение\n",
      "\n",
      "\n",
      "Количество крупных водохранилищ:\n",
      "\n",
      "\n",
      "\n",
      "Количество газораспределительных станций:\n",
      "\n",
      "\n",
      "\n"
     ]
    }
   ],
   "source": [
    "for ind_id, pots_ids in INDICATORS_POTS.items():\n",
    "  print(indicators.loc[ind_id, 'name_full'] + ':')\n",
    "  print(str.join('\\r\\n', ['- ' + physical_objects_types.loc[pot_id, 'name'] for pot_id in pots_ids]))\n",
    "  print('\\r\\n')"
   ]
  },
  {
   "cell_type": "markdown",
   "metadata": {},
   "source": [
    "Получаем территории"
   ]
  },
  {
   "cell_type": "code",
   "execution_count": 38,
   "metadata": {},
   "outputs": [],
   "source": [
    "import geopandas as gpd\n",
    "\n",
    "def get_region_territories(region_id : int):\n",
    "    res = requests.get('http://10.32.1.107:5300' + '/api/v1/all_territories', {\n",
    "        'parent_id': region_id,\n",
    "        'get_all_levels': True\n",
    "    })\n",
    "    gdf = gpd.GeoDataFrame.from_features(res.json()['features'], crs=4326)\n",
    "    df = pd.json_normalize(gdf['territory_type']).rename(columns={\n",
    "        'name':'territory_type_name'\n",
    "    })\n",
    "    gdf = pd.DataFrame.join(gdf, df).set_index('territory_id', drop=True)\n",
    "    return {level:gdf[gdf['level'] == level] for level in set(gdf.level)}"
   ]
  },
  {
   "cell_type": "code",
   "execution_count": 41,
   "metadata": {},
   "outputs": [],
   "source": [
    "gdfs = get_region_territories(1)"
   ]
  },
  {
   "cell_type": "code",
   "execution_count": 42,
   "metadata": {},
   "outputs": [
    {
     "data": {
      "text/plain": [
       "dict_keys([3, 4, 5])"
      ]
     },
     "execution_count": 42,
     "metadata": {},
     "output_type": "execute_result"
    }
   ],
   "source": [
    "levels = gdfs.keys()"
   ]
  },
  {
   "cell_type": "code",
   "execution_count": 5,
   "metadata": {},
   "outputs": [
    {
     "data": {
      "image/svg+xml": "<svg xmlns=\"http://www.w3.org/2000/svg\" xmlns:xlink=\"http://www.w3.org/1999/xlink\" width=\"100.0\" height=\"100.0\" viewBox=\"30.987314308837647 59.90651073470179 0.06693989526917932 0.0253597659270568\" preserveAspectRatio=\"xMinYMin meet\"><g transform=\"matrix(1,0,0,-1,0,119.83838123533064)\"><path fill-rule=\"evenodd\" fill=\"#66cc99\" stroke=\"#555555\" stroke-width=\"0.0013387979053835863\" opacity=\"0.6\" d=\"M 30.99391317285601,59.92459761135064 L 30.999718075936872,59.92939124524851 L 31.02331219813648,59.92534959987955 L 31.051774948726486,59.92224753697665 L 31.04952788946939,59.916794721233835 L 31.047655340088465,59.915572415065995 L 31.044659261078984,59.90898999008213 L 31.003837684574897,59.90917807754195 L 31.001216115441608,59.91105889333823 L 30.992976898165544,59.91096485508758 L 30.989793564217987,59.915196311774075 L 30.989793564217987,59.91923919807863 L 30.99391317285601,59.92459761135064 z\" /></g></svg>",
      "text/plain": [
       "<POLYGON ((30.994 59.925, 31 59.929, 31.023 59.925, 31.052 59.922, 31.05 59....>"
      ]
     },
     "execution_count": 5,
     "metadata": {},
     "output_type": "execute_result"
    }
   ],
   "source": [
    "import geopandas as gpd\n",
    "\n",
    "region_id = 1\n",
    "polygon = gpd.read_file('./data/territories/shlis.geojson').iloc[0].geometry\n",
    "polygon"
   ]
  },
  {
   "cell_type": "code",
   "execution_count": null,
   "metadata": {},
   "outputs": [],
   "source": []
  }
 ],
 "metadata": {
  "kernelspec": {
   "display_name": "Python 3.10.12 ('.venv': venv)",
   "language": "python",
   "name": "python3"
  },
  "language_info": {
   "codemirror_mode": {
    "name": "ipython",
    "version": 3
   },
   "file_extension": ".py",
   "mimetype": "text/x-python",
   "name": "python",
   "nbconvert_exporter": "python",
   "pygments_lexer": "ipython3",
   "version": "3.10.12"
  },
  "orig_nbformat": 4,
  "vscode": {
   "interpreter": {
    "hash": "ecba21b15397da16ca99d7f1942a3542b6207e57f8eb8fedf938077200da1bc3"
   }
  }
 },
 "nbformat": 4,
 "nbformat_minor": 2
}
