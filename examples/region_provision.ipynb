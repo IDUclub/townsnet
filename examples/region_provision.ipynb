{
 "cells": [
  {
   "cell_type": "code",
   "execution_count": 1,
   "metadata": {},
   "outputs": [],
   "source": [
    "from townsnet.models.region import Region\n",
    "\n",
    "region = Region.from_pickle('data/region.pickle')"
   ]
  },
  {
   "cell_type": "code",
   "execution_count": 2,
   "metadata": {},
   "outputs": [],
   "source": [
    "from townsnet.method.provision import Provision\n",
    "\n",
    "prov = Provision(region=region)"
   ]
  },
  {
   "cell_type": "code",
   "execution_count": 3,
   "metadata": {},
   "outputs": [],
   "source": [
    "import multiprocessing\n",
    "\n",
    "def calculate_provision(service_type):\n",
    "  return (service_type, prov.calculate(service_type, self_supply=True))\n",
    "\n",
    "pool = multiprocessing.Pool()\n",
    "provs = {st:res for st, res in pool.map(calculate_provision, region.service_types)}"
   ]
  },
  {
   "cell_type": "markdown",
   "metadata": {},
   "source": [
    "## Territory provision"
   ]
  },
  {
   "cell_type": "code",
   "execution_count": 25,
   "metadata": {},
   "outputs": [
    {
     "name": "stderr",
     "output_type": "stream",
     "text": [
      "/home/vasilstar/townsnet/townsnet/models/territory.py:18: RuntimeWarning: invalid value encountered in double_scalars\n",
      "  result[\"provision\"] = result[\"demand_within\"] / result[\"demand\"]\n",
      "/home/vasilstar/townsnet/townsnet/models/territory.py:18: RuntimeWarning: invalid value encountered in double_scalars\n",
      "  result[\"provision\"] = result[\"demand_within\"] / result[\"demand\"]\n",
      "/home/vasilstar/townsnet/townsnet/models/territory.py:18: RuntimeWarning: invalid value encountered in double_scalars\n",
      "  result[\"provision\"] = result[\"demand_within\"] / result[\"demand\"]\n",
      "/home/vasilstar/townsnet/townsnet/models/territory.py:18: RuntimeWarning: invalid value encountered in double_scalars\n",
      "  result[\"provision\"] = result[\"demand_within\"] / result[\"demand\"]\n",
      "/home/vasilstar/townsnet/townsnet/models/territory.py:18: RuntimeWarning: invalid value encountered in double_scalars\n",
      "  result[\"provision\"] = result[\"demand_within\"] / result[\"demand\"]\n",
      "/home/vasilstar/townsnet/townsnet/models/territory.py:18: RuntimeWarning: invalid value encountered in double_scalars\n",
      "  result[\"provision\"] = result[\"demand_within\"] / result[\"demand\"]\n",
      "/home/vasilstar/townsnet/townsnet/models/territory.py:18: RuntimeWarning: invalid value encountered in double_scalars\n",
      "  result[\"provision\"] = result[\"demand_within\"] / result[\"demand\"]\n",
      "/home/vasilstar/townsnet/townsnet/models/territory.py:18: RuntimeWarning: invalid value encountered in double_scalars\n",
      "  result[\"provision\"] = result[\"demand_within\"] / result[\"demand\"]\n"
     ]
    }
   ],
   "source": [
    "assessments = {t.name : t.get_indicators(provs, 0.8) for t in region.territories}"
   ]
  },
  {
   "cell_type": "code",
   "execution_count": 26,
   "metadata": {},
   "outputs": [
    {
     "name": "stdout",
     "output_type": "stream",
     "text": [
      "Аэродром Лодейнопольское поселение 3\n",
      "Проект Шлиссельбург 3\n",
      "Аэродром Сиверский 3\n",
      "Проект Светогорское поселение 2\n"
     ]
    }
   ],
   "source": [
    "for t,a in assessments.items():\n",
    "  print(t,round(a[1]))"
   ]
  },
  {
   "cell_type": "code",
   "execution_count": 27,
   "metadata": {},
   "outputs": [],
   "source": [
    "assessment = assessments['Аэродром Лодейнопольское поселение'][0]\n",
    "basic = assessment[assessment.category=='BASIC'].assessment.sum()\n",
    "basic_plus = assessment[assessment.category=='BASIC_PLUS'].assessment.sum()/4\n",
    "comfort = assessment[assessment.category=='COMFORT'].assessment.sum()/4"
   ]
  },
  {
   "cell_type": "code",
   "execution_count": 28,
   "metadata": {},
   "outputs": [
    {
     "data": {
      "text/plain": [
       "(1.9500000000000002, 0.6000000000000001, 0.55)"
      ]
     },
     "execution_count": 28,
     "metadata": {},
     "output_type": "execute_result"
    }
   ],
   "source": [
    "basic, basic_plus, comfort"
   ]
  }
 ],
 "metadata": {
  "kernelspec": {
   "display_name": ".venv",
   "language": "python",
   "name": "python3"
  },
  "language_info": {
   "codemirror_mode": {
    "name": "ipython",
    "version": 3
   },
   "file_extension": ".py",
   "mimetype": "text/x-python",
   "name": "python",
   "nbconvert_exporter": "python",
   "pygments_lexer": "ipython3",
   "version": "3.10.12"
  }
 },
 "nbformat": 4,
 "nbformat_minor": 2
}
